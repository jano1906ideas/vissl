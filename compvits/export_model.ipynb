{
 "cells": [
  {
   "cell_type": "code",
   "execution_count": null,
   "metadata": {},
   "outputs": [],
   "source": [
    "import torch\n",
    "from collections import OrderedDict\n",
    "\n",
    "checkpoint = torch.hub.load_state_dict_from_url(\"https://dl.fbaipublicfiles.com/deit/deit_3_base_224_1k.pth\", map_location='cpu', check_hash=True)\n",
    "new_checkpoint = []\n",
    "for k in checkpoint[\"model\"]:\n",
    "    if not k.startswith(\"head.\"):\n",
    "        new_k = \"trunk.\"+k\n",
    "        new_checkpoint.append([new_k, checkpoint[\"model\"][k]])\n",
    "    else:\n",
    "        new_k = \"heads.0.clf.0.\"+k[len(\"head.\"):]\n",
    "        new_checkpoint.append([new_k, checkpoint[\"model\"][k]])\n",
    "\n",
    "new_checkpoint = OrderedDict(new_checkpoint)"
   ]
  },
  {
   "cell_type": "code",
   "execution_count": null,
   "metadata": {},
   "outputs": [],
   "source": [
    "new_checkpoint.keys()"
   ]
  },
  {
   "cell_type": "code",
   "execution_count": null,
   "metadata": {},
   "outputs": [],
   "source": [
    "save = {\"model\": new_checkpoint}\n",
    "torch.save(save, \"../checkpoints/supervised/vitb.pth\")"
   ]
  }
 ],
 "metadata": {
  "kernelspec": {
   "display_name": "vissl",
   "language": "python",
   "name": "python3"
  },
  "language_info": {
   "codemirror_mode": {
    "name": "ipython",
    "version": 3
   },
   "file_extension": ".py",
   "mimetype": "text/x-python",
   "name": "python",
   "nbconvert_exporter": "python",
   "pygments_lexer": "ipython3",
   "version": "3.8.17"
  },
  "orig_nbformat": 4
 },
 "nbformat": 4,
 "nbformat_minor": 2
}
